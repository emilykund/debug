{
 "cells": [
  {
   "cell_type": "markdown",
   "id": "1e9924bd-9316-413e-ae2e-7fcabe96c5db",
   "metadata": {},
   "source": [
    "<b/>[ ] Example question & response</b>"
   ]
  },
  {
   "cell_type": "markdown",
   "id": "1b47a5ee-85ff-4ddd-93a6-d088e64abd3e",
   "metadata": {},
   "source": [
    "Completed this step by answering this question in a separate cell."
   ]
  },
  {
   "cell_type": "markdown",
   "id": "809bf8ea-fd9e-4b9b-a2be-f67eaa15d4c2",
   "metadata": {},
   "source": [
    "# 🧰 Beginner Python Debugging Checklist\n"
   ]
  },
  {
   "cell_type": "markdown",
   "id": "b77897f1",
   "metadata": {},
   "source": [
    "<b/>What should this code do?</b>\n"
   ]
  },
  {
   "cell_type": "markdown",
   "id": "041457d9-f631-4d90-8071-c32617b8c4bc",
   "metadata": {},
   "source": []
  },
  {
   "cell_type": "markdown",
   "id": "b494d946-b8ce-45e1-96c6-7e505db3453b",
   "metadata": {},
   "source": [
    "<b/>What is the error message saying?</b>\n"
   ]
  },
  {
   "cell_type": "markdown",
   "id": "014950ed-fdd9-41e0-8188-5b3206d66db5",
   "metadata": {},
   "source": []
  },
  {
   "cell_type": "markdown",
   "id": "01d14202-09e6-4139-8611-126c68b089f5",
   "metadata": {},
   "source": [
    "<b/>Which line is causing the problem?</b>\n"
   ]
  },
  {
   "cell_type": "markdown",
   "id": "646b0cbf-7def-4447-a18b-44ecd1aeb649",
   "metadata": {},
   "source": []
  },
  {
   "cell_type": "markdown",
   "id": "b1490a4c-cf0f-4e35-a581-a5807baed076",
   "metadata": {},
   "source": [
    "<b/>Did I check variable values?</b>"
   ]
  },
  {
   "cell_type": "markdown",
   "id": "16e0c1ec-8505-464c-b03c-51c7d0b3e8f3",
   "metadata": {},
   "source": []
  },
  {
   "cell_type": "markdown",
   "id": "e37588df-a396-47b1-bd72-c9733f28a8b4",
   "metadata": {},
   "source": [
    "<b/>Did I test my assumptions?</b>"
   ]
  },
  {
   "cell_type": "markdown",
   "id": "f5fde93a-654a-431f-81c5-79aae94b33ba",
   "metadata": {},
   "source": []
  },
  {
   "cell_type": "markdown",
   "id": "cb1c3530-9982-477d-bf02-adb74d782e36",
   "metadata": {},
   "source": [
    "<b/>Did I Google or look up the error?</b>"
   ]
  },
  {
   "cell_type": "markdown",
   "id": "7bf80208-71d8-4b57-ad78-ef2534bade1f",
   "metadata": {},
   "source": []
  },
  {
   "cell_type": "markdown",
   "id": "f438e2d2-60c5-4810-86fb-9e91ab5b81b7",
   "metadata": {},
   "source": [
    "<b/>Did I clean up and re-run the full script?</b>"
   ]
  },
  {
   "cell_type": "code",
   "execution_count": null,
   "id": "e55df0ca-314a-4661-91ce-e13c279dcbcd",
   "metadata": {},
   "outputs": [],
   "source": []
  }
 ],
 "metadata": {
  "kernelspec": {
   "display_name": "Python [conda env:base] *",
   "language": "python",
   "name": "conda-base-py"
  },
  "language_info": {
   "codemirror_mode": {
    "name": "ipython",
    "version": 3
   },
   "file_extension": ".py",
   "mimetype": "text/x-python",
   "name": "python",
   "nbconvert_exporter": "python",
   "pygments_lexer": "ipython3",
   "version": "3.11.7"
  }
 },
 "nbformat": 4,
 "nbformat_minor": 5
}
